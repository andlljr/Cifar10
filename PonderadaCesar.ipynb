{
  "cells": [
    {
      "cell_type": "markdown",
      "metadata": {
        "id": "oaCHDLca07Hj"
      },
      "source": [
        "# Setup\n",
        "\n",
        "Neste bloco é realizado a importação de bibliotecas tanto para base de dados quanto para elaboração do modelo."
      ]
    },
    {
      "cell_type": "code",
      "execution_count": 92,
      "metadata": {
        "id": "ByTb5InrO56I"
      },
      "outputs": [],
      "source": [
        "import tensorflow as tf\n",
        "import numpy as np\n",
        "import matplotlib.pyplot as plt\n",
        "from tensorflow.keras import callbacks\n",
        "from tensorflow.keras.preprocessing.image import ImageDataGenerator"
      ]
    },
    {
      "cell_type": "markdown",
      "metadata": {
        "id": "qdoej69ghHV_"
      },
      "source": [
        "# Importar base de dados"
      ]
    },
    {
      "cell_type": "code",
      "execution_count": 85,
      "metadata": {
        "id": "1KXAywqgta4M"
      },
      "outputs": [],
      "source": [
        "# Carregar dados\n",
        "cifar10 = tf.keras.datasets.cifar10\n",
        "\n",
        "# Distribuir dados em treino e teste\n",
        "(x_train, y_train), (x_test, y_test) = cifar10.load_data()"
      ]
    },
    {
      "cell_type": "code",
      "execution_count": 86,
      "metadata": {
        "id": "78nsWe3Lul0n"
      },
      "outputs": [],
      "source": [
        "# Normalizar valores\n",
        "x_train, x_test = x_train / 255.0, x_test / 255.0\n",
        "\n",
        "# Converter labels\n",
        "y_train, y_test = y_train.flatten(), y_test.flatten()"
      ]
    },
    {
      "cell_type": "markdown",
      "metadata": {
        "id": "7pX4zSZZwbGs"
      },
      "source": [
        "# Data Augmentation"
      ]
    },
    {
      "cell_type": "code",
      "execution_count": 87,
      "metadata": {
        "id": "NBzIunnPwaQe"
      },
      "outputs": [],
      "source": [
        "# Configurar Data Augmentation\n",
        "datagen = ImageDataGenerator(\n",
        "    rotation_range=20,\n",
        "    horizontal_flip=True,\n",
        "    zoom_range=0.1,\n",
        "    height_shift_range=0.1,\n",
        "    width_shift_range=0.1\n",
        ")\n",
        "\n",
        "# Aplicar o augmentation durante o treinamento\n",
        "train_generator = datagen.flow(x_train, y_train, 32)"
      ]
    },
    {
      "cell_type": "code",
      "execution_count": 89,
      "metadata": {
        "colab": {
          "base_uri": "https://localhost:8080/"
        },
        "id": "XgUjVRb5WwKV",
        "outputId": "69331a36-5ace-4f86-cad2-0037bf9af617"
      },
      "outputs": [
        {
          "data": {
            "text/plain": [
              "(32, 32, 3)"
            ]
          },
          "execution_count": 89,
          "metadata": {},
          "output_type": "execute_result"
        }
      ],
      "source": [
        "x_train[0].shape"
      ]
    },
    {
      "cell_type": "markdown",
      "metadata": {
        "id": "nn0twO-l2FXK"
      },
      "source": [
        "# Modelo"
      ]
    },
    {
      "cell_type": "code",
      "execution_count": 90,
      "metadata": {
        "colab": {
          "base_uri": "https://localhost:8080/"
        },
        "id": "unE2a1XbzDXh",
        "outputId": "600d8ae0-1ed9-43d3-800e-fd6b0056d1db"
      },
      "outputs": [
        {
          "name": "stdout",
          "output_type": "stream",
          "text": [
            "Model: \"sequential_3\"\n",
            "_________________________________________________________________\n",
            " Layer (type)                Output Shape              Param #   \n",
            "=================================================================\n",
            " conv2d_30 (Conv2D)          (None, 32, 32, 32)        896       \n",
            "                                                                 \n",
            " batch_normalization_30 (Ba  (None, 32, 32, 32)        128       \n",
            " tchNormalization)                                               \n",
            "                                                                 \n",
            " conv2d_31 (Conv2D)          (None, 32, 32, 32)        9248      \n",
            "                                                                 \n",
            " batch_normalization_31 (Ba  (None, 32, 32, 32)        128       \n",
            " tchNormalization)                                               \n",
            "                                                                 \n",
            " max_pooling2d_15 (MaxPooli  (None, 16, 16, 32)        0         \n",
            " ng2D)                                                           \n",
            "                                                                 \n",
            " conv2d_32 (Conv2D)          (None, 16, 16, 128)       36992     \n",
            "                                                                 \n",
            " batch_normalization_32 (Ba  (None, 16, 16, 128)       512       \n",
            " tchNormalization)                                               \n",
            "                                                                 \n",
            " max_pooling2d_16 (MaxPooli  (None, 8, 8, 128)         0         \n",
            " ng2D)                                                           \n",
            "                                                                 \n",
            " conv2d_33 (Conv2D)          (None, 8, 8, 256)         295168    \n",
            "                                                                 \n",
            " batch_normalization_33 (Ba  (None, 8, 8, 256)         1024      \n",
            " tchNormalization)                                               \n",
            "                                                                 \n",
            " max_pooling2d_17 (MaxPooli  (None, 4, 4, 256)         0         \n",
            " ng2D)                                                           \n",
            "                                                                 \n",
            " flatten_7 (Flatten)         (None, 4096)              0         \n",
            "                                                                 \n",
            " dropout_13 (Dropout)        (None, 4096)              0         \n",
            "                                                                 \n",
            " dense_15 (Dense)            (None, 1024)              4195328   \n",
            "                                                                 \n",
            " dropout_14 (Dropout)        (None, 1024)              0         \n",
            "                                                                 \n",
            " dense_16 (Dense)            (None, 10)                10250     \n",
            "                                                                 \n",
            "=================================================================\n",
            "Total params: 4549674 (17.36 MB)\n",
            "Trainable params: 4548778 (17.35 MB)\n",
            "Non-trainable params: 896 (3.50 KB)\n",
            "_________________________________________________________________\n"
          ]
        }
      ],
      "source": [
        "from tensorflow.keras.models import Sequential\n",
        "from tensorflow.keras.layers import Conv2D, BatchNormalization, MaxPooling2D, Flatten, Dropout, Dense\n",
        "\n",
        "# Criação do modelo sequencial\n",
        "model = Sequential()\n",
        "\n",
        "# Adicionando camadas\n",
        "model.add(Conv2D(32, (3, 3), activation='relu', padding='same', input_shape=(32,32,3)))\n",
        "model.add(BatchNormalization())\n",
        "model.add(Conv2D(32, (3, 3), activation='relu', padding='same'))\n",
        "model.add(BatchNormalization())\n",
        "model.add(MaxPooling2D((2, 2)))\n",
        "\n",
        "model.add(Conv2D(128, (3, 3), activation='relu', padding='same'))\n",
        "model.add(BatchNormalization())\n",
        "model.add(MaxPooling2D((2, 2)))\n",
        "\n",
        "model.add(Conv2D(256, (3, 3), activation='relu', padding='same'))\n",
        "model.add(BatchNormalization())\n",
        "model.add(MaxPooling2D((2, 2)))\n",
        "\n",
        "model.add(Flatten())\n",
        "model.add(Dropout(0.2))\n",
        "\n",
        "# Camada oculta\n",
        "model.add(Dense(1024, activation='relu'))\n",
        "model.add(Dropout(0.2))\n",
        "\n",
        "# Camada de output\n",
        "model.add(Dense(10, activation='softmax'))\n",
        "\n",
        "# Descrição do modelo\n",
        "model.summary()\n"
      ]
    },
    {
      "cell_type": "code",
      "execution_count": 69,
      "metadata": {
        "id": "66YA4YeP2NEk"
      },
      "outputs": [],
      "source": [
        "# Compilação do modelo\n",
        "model.compile(optimizer='adam',\n",
        "              loss='sparse_categorical_crossentropy',\n",
        "              metrics=['accuracy'])"
      ]
    },
    {
      "cell_type": "markdown",
      "metadata": {
        "id": "EscU_o_W2SQa"
      },
      "source": [
        "# Treinamento"
      ]
    },
    {
      "cell_type": "code",
      "execution_count": 70,
      "metadata": {
        "id": "uupb_HYP3XUE"
      },
      "outputs": [],
      "source": [
        "# Definir Early Stopping\n",
        "early_stopping = callbacks.EarlyStopping(monitor='val_loss', patience=15, restore_best_weights=True)"
      ]
    },
    {
      "cell_type": "code",
      "execution_count": 71,
      "metadata": {
        "colab": {
          "base_uri": "https://localhost:8080/"
        },
        "id": "wSo_OYQ62PC_",
        "outputId": "6dbc9aed-c65f-4b68-dc79-4f11bf5fb529"
      },
      "outputs": [
        {
          "name": "stdout",
          "output_type": "stream",
          "text": [
            "Epoch 1/50\n",
            "1563/1563 [==============================] - 50s 28ms/step - loss: 1.5296 - accuracy: 0.4650 - val_loss: 1.4159 - val_accuracy: 0.5297\n",
            "Epoch 2/50\n",
            "1563/1563 [==============================] - 40s 26ms/step - loss: 1.1070 - accuracy: 0.6122 - val_loss: 0.9853 - val_accuracy: 0.6667\n",
            "Epoch 3/50\n",
            "1563/1563 [==============================] - 40s 26ms/step - loss: 0.9506 - accuracy: 0.6712 - val_loss: 0.9151 - val_accuracy: 0.7029\n",
            "Epoch 4/50\n",
            "1563/1563 [==============================] - 41s 26ms/step - loss: 0.8573 - accuracy: 0.7033 - val_loss: 0.8478 - val_accuracy: 0.7099\n",
            "Epoch 5/50\n",
            "1563/1563 [==============================] - 42s 27ms/step - loss: 0.7957 - accuracy: 0.7284 - val_loss: 0.7487 - val_accuracy: 0.7516\n",
            "Epoch 6/50\n",
            "1563/1563 [==============================] - 41s 26ms/step - loss: 0.7329 - accuracy: 0.7498 - val_loss: 0.7773 - val_accuracy: 0.7529\n",
            "Epoch 7/50\n",
            "1563/1563 [==============================] - 40s 26ms/step - loss: 0.6824 - accuracy: 0.7665 - val_loss: 0.6961 - val_accuracy: 0.7795\n",
            "Epoch 8/50\n",
            "1563/1563 [==============================] - 39s 25ms/step - loss: 0.6543 - accuracy: 0.7777 - val_loss: 0.6936 - val_accuracy: 0.7678\n",
            "Epoch 9/50\n",
            "1563/1563 [==============================] - 40s 26ms/step - loss: 0.6241 - accuracy: 0.7871 - val_loss: 0.6049 - val_accuracy: 0.7998\n",
            "Epoch 10/50\n",
            "1563/1563 [==============================] - 43s 28ms/step - loss: 0.5938 - accuracy: 0.7954 - val_loss: 0.5327 - val_accuracy: 0.8255\n",
            "Epoch 11/50\n",
            "1563/1563 [==============================] - 41s 26ms/step - loss: 0.5667 - accuracy: 0.8072 - val_loss: 0.7121 - val_accuracy: 0.7807\n",
            "Epoch 12/50\n",
            "1563/1563 [==============================] - 41s 26ms/step - loss: 0.5457 - accuracy: 0.8136 - val_loss: 0.5208 - val_accuracy: 0.8225\n",
            "Epoch 13/50\n",
            "1563/1563 [==============================] - 41s 26ms/step - loss: 0.5188 - accuracy: 0.8220 - val_loss: 0.5172 - val_accuracy: 0.8262\n",
            "Epoch 14/50\n",
            "1563/1563 [==============================] - 42s 27ms/step - loss: 0.5055 - accuracy: 0.8271 - val_loss: 0.5389 - val_accuracy: 0.8204\n",
            "Epoch 15/50\n",
            "1563/1563 [==============================] - 39s 25ms/step - loss: 0.4855 - accuracy: 0.8326 - val_loss: 0.5054 - val_accuracy: 0.8327\n",
            "Epoch 16/50\n",
            "1563/1563 [==============================] - 39s 25ms/step - loss: 0.4746 - accuracy: 0.8383 - val_loss: 0.4474 - val_accuracy: 0.8500\n",
            "Epoch 17/50\n",
            "1563/1563 [==============================] - 41s 26ms/step - loss: 0.4599 - accuracy: 0.8425 - val_loss: 0.5146 - val_accuracy: 0.8371\n",
            "Epoch 18/50\n",
            "1563/1563 [==============================] - 43s 27ms/step - loss: 0.4453 - accuracy: 0.8458 - val_loss: 0.5162 - val_accuracy: 0.8304\n",
            "Epoch 19/50\n",
            "1563/1563 [==============================] - 41s 26ms/step - loss: 0.4332 - accuracy: 0.8489 - val_loss: 0.4596 - val_accuracy: 0.8515\n",
            "Epoch 20/50\n",
            "1563/1563 [==============================] - 42s 27ms/step - loss: 0.4275 - accuracy: 0.8519 - val_loss: 0.5076 - val_accuracy: 0.8334\n",
            "Epoch 21/50\n",
            "1563/1563 [==============================] - 44s 28ms/step - loss: 0.4143 - accuracy: 0.8571 - val_loss: 0.4646 - val_accuracy: 0.8427\n",
            "Epoch 22/50\n",
            "1563/1563 [==============================] - 42s 27ms/step - loss: 0.4000 - accuracy: 0.8615 - val_loss: 0.3832 - val_accuracy: 0.8713\n",
            "Epoch 23/50\n",
            "1563/1563 [==============================] - 42s 27ms/step - loss: 0.3993 - accuracy: 0.8637 - val_loss: 0.4509 - val_accuracy: 0.8565\n",
            "Epoch 24/50\n",
            "1563/1563 [==============================] - 43s 27ms/step - loss: 0.3864 - accuracy: 0.8674 - val_loss: 0.5272 - val_accuracy: 0.8315\n",
            "Epoch 25/50\n",
            "1563/1563 [==============================] - 41s 27ms/step - loss: 0.3797 - accuracy: 0.8691 - val_loss: 0.4486 - val_accuracy: 0.8557\n",
            "Epoch 26/50\n",
            "1563/1563 [==============================] - 41s 26ms/step - loss: 0.3772 - accuracy: 0.8705 - val_loss: 0.4081 - val_accuracy: 0.8610\n",
            "Epoch 27/50\n",
            "1563/1563 [==============================] - 43s 27ms/step - loss: 0.3719 - accuracy: 0.8727 - val_loss: 0.3896 - val_accuracy: 0.8736\n",
            "Epoch 28/50\n",
            "1563/1563 [==============================] - 54s 34ms/step - loss: 0.3679 - accuracy: 0.8760 - val_loss: 0.3998 - val_accuracy: 0.8725\n",
            "Epoch 29/50\n",
            "1563/1563 [==============================] - 42s 27ms/step - loss: 0.3563 - accuracy: 0.8775 - val_loss: 0.4569 - val_accuracy: 0.8505\n",
            "Epoch 30/50\n",
            "1563/1563 [==============================] - 42s 27ms/step - loss: 0.3535 - accuracy: 0.8773 - val_loss: 0.4433 - val_accuracy: 0.8562\n",
            "Epoch 31/50\n",
            "1563/1563 [==============================] - 41s 27ms/step - loss: 0.3497 - accuracy: 0.8785 - val_loss: 0.4118 - val_accuracy: 0.8668\n",
            "Epoch 32/50\n",
            "1563/1563 [==============================] - 43s 27ms/step - loss: 0.3364 - accuracy: 0.8839 - val_loss: 0.4469 - val_accuracy: 0.8612\n",
            "Epoch 33/50\n",
            "1563/1563 [==============================] - 40s 26ms/step - loss: 0.3325 - accuracy: 0.8853 - val_loss: 0.3968 - val_accuracy: 0.8762\n",
            "Epoch 34/50\n",
            "1563/1563 [==============================] - 38s 24ms/step - loss: 0.3390 - accuracy: 0.8843 - val_loss: 0.4001 - val_accuracy: 0.8675\n",
            "Epoch 35/50\n",
            "1563/1563 [==============================] - 41s 26ms/step - loss: 0.3260 - accuracy: 0.8870 - val_loss: 0.4542 - val_accuracy: 0.8616\n",
            "Epoch 36/50\n",
            "1563/1563 [==============================] - 41s 27ms/step - loss: 0.3240 - accuracy: 0.8893 - val_loss: 0.4332 - val_accuracy: 0.8586\n",
            "Epoch 37/50\n",
            "1563/1563 [==============================] - 43s 27ms/step - loss: 0.3229 - accuracy: 0.8894 - val_loss: 0.3842 - val_accuracy: 0.8830\n"
          ]
        }
      ],
      "source": [
        "# Treinar modelo\n",
        "history = model.fit(train_generator, validation_data=(x_test, y_test), epochs=50, callbacks=[early_stopping])"
      ]
    },
    {
      "cell_type": "code",
      "execution_count": 93,
      "metadata": {
        "colab": {
          "base_uri": "https://localhost:8080/",
          "height": 542
        },
        "id": "-TE1y61yIzsx",
        "outputId": "bae1c70f-7e08-4985-b690-7b4a8ebe53a7"
      },
      "outputs": [
        {
          "data": {
            "text/html": [
              "<html>\n",
              "<head><meta charset=\"utf-8\" /></head>\n",
              "<body>\n",
              "    <div>            <script src=\"https://cdnjs.cloudflare.com/ajax/libs/mathjax/2.7.5/MathJax.js?config=TeX-AMS-MML_SVG\"></script><script type=\"text/javascript\">if (window.MathJax && window.MathJax.Hub && window.MathJax.Hub.Config) {window.MathJax.Hub.Config({SVG: {font: \"STIX-Web\"}});}</script>                <script type=\"text/javascript\">window.PlotlyConfig = {MathJaxConfig: 'local'};</script>\n",
              "        <script charset=\"utf-8\" src=\"https://cdn.plot.ly/plotly-2.24.1.min.js\"></script>                <div id=\"62863432-299b-46c5-b103-a246156aa832\" class=\"plotly-graph-div\" style=\"height:525px; width:100%;\"></div>            <script type=\"text/javascript\">                                    window.PLOTLYENV=window.PLOTLYENV || {};                                    if (document.getElementById(\"62863432-299b-46c5-b103-a246156aa832\")) {                    Plotly.newPlot(                        \"62863432-299b-46c5-b103-a246156aa832\",                        [{\"mode\":\"lines\",\"name\":\"Acur\\u00e1cia Treinamento\",\"x\":[1,2,3,4,5,6,7,8,9,10,11,12,13,14,15,16,17,18,19,20,21,22,23,24,25,26,27,28,29,30,31,32,33,34,35,36,37],\"y\":[0.46502000093460083,0.6122199892997742,0.671180009841919,0.7032999992370605,0.72843998670578,0.749779999256134,0.766480028629303,0.777679979801178,0.7871000170707703,0.7953600287437439,0.8072400093078613,0.8135799765586853,0.8220199942588806,0.8270599842071533,0.8326200246810913,0.8383200168609619,0.842519998550415,0.8457800149917603,0.8488600254058838,0.8519399762153625,0.8571400046348572,0.861519992351532,0.8636999726295471,0.8673999905586243,0.8690999746322632,0.8705199956893921,0.8726800084114075,0.876039981842041,0.8774799704551697,0.8773400187492371,0.8785200119018555,0.8838800191879272,0.8852800130844116,0.8843399882316589,0.8870400190353394,0.8893399834632874,0.8894400000572205],\"type\":\"scatter\"},{\"mode\":\"lines\",\"name\":\"Acur\\u00e1cia Valida\\u00e7\\u00e3o\",\"x\":[1,2,3,4,5,6,7,8,9,10,11,12,13,14,15,16,17,18,19,20,21,22,23,24,25,26,27,28,29,30,31,32,33,34,35,36,37],\"y\":[0.529699981212616,0.666700005531311,0.7028999924659729,0.7099000215530396,0.7516000270843506,0.7529000043869019,0.7795000076293945,0.767799973487854,0.7997999787330627,0.8255000114440918,0.7807000279426575,0.8224999904632568,0.826200008392334,0.8203999996185303,0.8327000141143799,0.8500000238418579,0.8371000289916992,0.8303999900817871,0.8514999747276306,0.8334000110626221,0.8427000045776367,0.8712999820709229,0.8565000295639038,0.8314999938011169,0.8557000160217285,0.8610000014305115,0.8736000061035156,0.8725000023841858,0.8504999876022339,0.8561999797821045,0.8668000102043152,0.8611999750137329,0.8762000203132629,0.8675000071525574,0.8615999817848206,0.8586000204086304,0.8830000162124634],\"type\":\"scatter\"}],                        {\"template\":{\"data\":{\"histogram2dcontour\":[{\"type\":\"histogram2dcontour\",\"colorbar\":{\"outlinewidth\":0,\"ticks\":\"\"},\"colorscale\":[[0.0,\"#0d0887\"],[0.1111111111111111,\"#46039f\"],[0.2222222222222222,\"#7201a8\"],[0.3333333333333333,\"#9c179e\"],[0.4444444444444444,\"#bd3786\"],[0.5555555555555556,\"#d8576b\"],[0.6666666666666666,\"#ed7953\"],[0.7777777777777778,\"#fb9f3a\"],[0.8888888888888888,\"#fdca26\"],[1.0,\"#f0f921\"]]}],\"choropleth\":[{\"type\":\"choropleth\",\"colorbar\":{\"outlinewidth\":0,\"ticks\":\"\"}}],\"histogram2d\":[{\"type\":\"histogram2d\",\"colorbar\":{\"outlinewidth\":0,\"ticks\":\"\"},\"colorscale\":[[0.0,\"#0d0887\"],[0.1111111111111111,\"#46039f\"],[0.2222222222222222,\"#7201a8\"],[0.3333333333333333,\"#9c179e\"],[0.4444444444444444,\"#bd3786\"],[0.5555555555555556,\"#d8576b\"],[0.6666666666666666,\"#ed7953\"],[0.7777777777777778,\"#fb9f3a\"],[0.8888888888888888,\"#fdca26\"],[1.0,\"#f0f921\"]]}],\"heatmap\":[{\"type\":\"heatmap\",\"colorbar\":{\"outlinewidth\":0,\"ticks\":\"\"},\"colorscale\":[[0.0,\"#0d0887\"],[0.1111111111111111,\"#46039f\"],[0.2222222222222222,\"#7201a8\"],[0.3333333333333333,\"#9c179e\"],[0.4444444444444444,\"#bd3786\"],[0.5555555555555556,\"#d8576b\"],[0.6666666666666666,\"#ed7953\"],[0.7777777777777778,\"#fb9f3a\"],[0.8888888888888888,\"#fdca26\"],[1.0,\"#f0f921\"]]}],\"heatmapgl\":[{\"type\":\"heatmapgl\",\"colorbar\":{\"outlinewidth\":0,\"ticks\":\"\"},\"colorscale\":[[0.0,\"#0d0887\"],[0.1111111111111111,\"#46039f\"],[0.2222222222222222,\"#7201a8\"],[0.3333333333333333,\"#9c179e\"],[0.4444444444444444,\"#bd3786\"],[0.5555555555555556,\"#d8576b\"],[0.6666666666666666,\"#ed7953\"],[0.7777777777777778,\"#fb9f3a\"],[0.8888888888888888,\"#fdca26\"],[1.0,\"#f0f921\"]]}],\"contourcarpet\":[{\"type\":\"contourcarpet\",\"colorbar\":{\"outlinewidth\":0,\"ticks\":\"\"}}],\"contour\":[{\"type\":\"contour\",\"colorbar\":{\"outlinewidth\":0,\"ticks\":\"\"},\"colorscale\":[[0.0,\"#0d0887\"],[0.1111111111111111,\"#46039f\"],[0.2222222222222222,\"#7201a8\"],[0.3333333333333333,\"#9c179e\"],[0.4444444444444444,\"#bd3786\"],[0.5555555555555556,\"#d8576b\"],[0.6666666666666666,\"#ed7953\"],[0.7777777777777778,\"#fb9f3a\"],[0.8888888888888888,\"#fdca26\"],[1.0,\"#f0f921\"]]}],\"surface\":[{\"type\":\"surface\",\"colorbar\":{\"outlinewidth\":0,\"ticks\":\"\"},\"colorscale\":[[0.0,\"#0d0887\"],[0.1111111111111111,\"#46039f\"],[0.2222222222222222,\"#7201a8\"],[0.3333333333333333,\"#9c179e\"],[0.4444444444444444,\"#bd3786\"],[0.5555555555555556,\"#d8576b\"],[0.6666666666666666,\"#ed7953\"],[0.7777777777777778,\"#fb9f3a\"],[0.8888888888888888,\"#fdca26\"],[1.0,\"#f0f921\"]]}],\"mesh3d\":[{\"type\":\"mesh3d\",\"colorbar\":{\"outlinewidth\":0,\"ticks\":\"\"}}],\"scatter\":[{\"fillpattern\":{\"fillmode\":\"overlay\",\"size\":10,\"solidity\":0.2},\"type\":\"scatter\"}],\"parcoords\":[{\"type\":\"parcoords\",\"line\":{\"colorbar\":{\"outlinewidth\":0,\"ticks\":\"\"}}}],\"scatterpolargl\":[{\"type\":\"scatterpolargl\",\"marker\":{\"colorbar\":{\"outlinewidth\":0,\"ticks\":\"\"}}}],\"bar\":[{\"error_x\":{\"color\":\"#2a3f5f\"},\"error_y\":{\"color\":\"#2a3f5f\"},\"marker\":{\"line\":{\"color\":\"#E5ECF6\",\"width\":0.5},\"pattern\":{\"fillmode\":\"overlay\",\"size\":10,\"solidity\":0.2}},\"type\":\"bar\"}],\"scattergeo\":[{\"type\":\"scattergeo\",\"marker\":{\"colorbar\":{\"outlinewidth\":0,\"ticks\":\"\"}}}],\"scatterpolar\":[{\"type\":\"scatterpolar\",\"marker\":{\"colorbar\":{\"outlinewidth\":0,\"ticks\":\"\"}}}],\"histogram\":[{\"marker\":{\"pattern\":{\"fillmode\":\"overlay\",\"size\":10,\"solidity\":0.2}},\"type\":\"histogram\"}],\"scattergl\":[{\"type\":\"scattergl\",\"marker\":{\"colorbar\":{\"outlinewidth\":0,\"ticks\":\"\"}}}],\"scatter3d\":[{\"type\":\"scatter3d\",\"line\":{\"colorbar\":{\"outlinewidth\":0,\"ticks\":\"\"}},\"marker\":{\"colorbar\":{\"outlinewidth\":0,\"ticks\":\"\"}}}],\"scattermapbox\":[{\"type\":\"scattermapbox\",\"marker\":{\"colorbar\":{\"outlinewidth\":0,\"ticks\":\"\"}}}],\"scatterternary\":[{\"type\":\"scatterternary\",\"marker\":{\"colorbar\":{\"outlinewidth\":0,\"ticks\":\"\"}}}],\"scattercarpet\":[{\"type\":\"scattercarpet\",\"marker\":{\"colorbar\":{\"outlinewidth\":0,\"ticks\":\"\"}}}],\"carpet\":[{\"aaxis\":{\"endlinecolor\":\"#2a3f5f\",\"gridcolor\":\"white\",\"linecolor\":\"white\",\"minorgridcolor\":\"white\",\"startlinecolor\":\"#2a3f5f\"},\"baxis\":{\"endlinecolor\":\"#2a3f5f\",\"gridcolor\":\"white\",\"linecolor\":\"white\",\"minorgridcolor\":\"white\",\"startlinecolor\":\"#2a3f5f\"},\"type\":\"carpet\"}],\"table\":[{\"cells\":{\"fill\":{\"color\":\"#EBF0F8\"},\"line\":{\"color\":\"white\"}},\"header\":{\"fill\":{\"color\":\"#C8D4E3\"},\"line\":{\"color\":\"white\"}},\"type\":\"table\"}],\"barpolar\":[{\"marker\":{\"line\":{\"color\":\"#E5ECF6\",\"width\":0.5},\"pattern\":{\"fillmode\":\"overlay\",\"size\":10,\"solidity\":0.2}},\"type\":\"barpolar\"}],\"pie\":[{\"automargin\":true,\"type\":\"pie\"}]},\"layout\":{\"autotypenumbers\":\"strict\",\"colorway\":[\"#636efa\",\"#EF553B\",\"#00cc96\",\"#ab63fa\",\"#FFA15A\",\"#19d3f3\",\"#FF6692\",\"#B6E880\",\"#FF97FF\",\"#FECB52\"],\"font\":{\"color\":\"#2a3f5f\"},\"hovermode\":\"closest\",\"hoverlabel\":{\"align\":\"left\"},\"paper_bgcolor\":\"white\",\"plot_bgcolor\":\"#E5ECF6\",\"polar\":{\"bgcolor\":\"#E5ECF6\",\"angularaxis\":{\"gridcolor\":\"white\",\"linecolor\":\"white\",\"ticks\":\"\"},\"radialaxis\":{\"gridcolor\":\"white\",\"linecolor\":\"white\",\"ticks\":\"\"}},\"ternary\":{\"bgcolor\":\"#E5ECF6\",\"aaxis\":{\"gridcolor\":\"white\",\"linecolor\":\"white\",\"ticks\":\"\"},\"baxis\":{\"gridcolor\":\"white\",\"linecolor\":\"white\",\"ticks\":\"\"},\"caxis\":{\"gridcolor\":\"white\",\"linecolor\":\"white\",\"ticks\":\"\"}},\"coloraxis\":{\"colorbar\":{\"outlinewidth\":0,\"ticks\":\"\"}},\"colorscale\":{\"sequential\":[[0.0,\"#0d0887\"],[0.1111111111111111,\"#46039f\"],[0.2222222222222222,\"#7201a8\"],[0.3333333333333333,\"#9c179e\"],[0.4444444444444444,\"#bd3786\"],[0.5555555555555556,\"#d8576b\"],[0.6666666666666666,\"#ed7953\"],[0.7777777777777778,\"#fb9f3a\"],[0.8888888888888888,\"#fdca26\"],[1.0,\"#f0f921\"]],\"sequentialminus\":[[0.0,\"#0d0887\"],[0.1111111111111111,\"#46039f\"],[0.2222222222222222,\"#7201a8\"],[0.3333333333333333,\"#9c179e\"],[0.4444444444444444,\"#bd3786\"],[0.5555555555555556,\"#d8576b\"],[0.6666666666666666,\"#ed7953\"],[0.7777777777777778,\"#fb9f3a\"],[0.8888888888888888,\"#fdca26\"],[1.0,\"#f0f921\"]],\"diverging\":[[0,\"#8e0152\"],[0.1,\"#c51b7d\"],[0.2,\"#de77ae\"],[0.3,\"#f1b6da\"],[0.4,\"#fde0ef\"],[0.5,\"#f7f7f7\"],[0.6,\"#e6f5d0\"],[0.7,\"#b8e186\"],[0.8,\"#7fbc41\"],[0.9,\"#4d9221\"],[1,\"#276419\"]]},\"xaxis\":{\"gridcolor\":\"white\",\"linecolor\":\"white\",\"ticks\":\"\",\"title\":{\"standoff\":15},\"zerolinecolor\":\"white\",\"automargin\":true,\"zerolinewidth\":2},\"yaxis\":{\"gridcolor\":\"white\",\"linecolor\":\"white\",\"ticks\":\"\",\"title\":{\"standoff\":15},\"zerolinecolor\":\"white\",\"automargin\":true,\"zerolinewidth\":2},\"scene\":{\"xaxis\":{\"backgroundcolor\":\"#E5ECF6\",\"gridcolor\":\"white\",\"linecolor\":\"white\",\"showbackground\":true,\"ticks\":\"\",\"zerolinecolor\":\"white\",\"gridwidth\":2},\"yaxis\":{\"backgroundcolor\":\"#E5ECF6\",\"gridcolor\":\"white\",\"linecolor\":\"white\",\"showbackground\":true,\"ticks\":\"\",\"zerolinecolor\":\"white\",\"gridwidth\":2},\"zaxis\":{\"backgroundcolor\":\"#E5ECF6\",\"gridcolor\":\"white\",\"linecolor\":\"white\",\"showbackground\":true,\"ticks\":\"\",\"zerolinecolor\":\"white\",\"gridwidth\":2}},\"shapedefaults\":{\"line\":{\"color\":\"#2a3f5f\"}},\"annotationdefaults\":{\"arrowcolor\":\"#2a3f5f\",\"arrowhead\":0,\"arrowwidth\":1},\"geo\":{\"bgcolor\":\"white\",\"landcolor\":\"#E5ECF6\",\"subunitcolor\":\"white\",\"showland\":true,\"showlakes\":true,\"lakecolor\":\"white\"},\"title\":{\"x\":0.05},\"mapbox\":{\"style\":\"light\"}}},\"title\":{\"text\":\"Acur\\u00e1cia por Itera\\u00e7\\u00e3o\"},\"xaxis\":{\"title\":{\"text\":\"\\u00c9pocas\"}},\"yaxis\":{\"title\":{\"text\":\"Acur\\u00e1cia\"}},\"legend\":{\"title\":{\"text\":\"Tipo de Acur\\u00e1cia\"}}},                        {\"responsive\": true}                    ).then(function(){\n",
              "                            \n",
              "var gd = document.getElementById('62863432-299b-46c5-b103-a246156aa832');\n",
              "var x = new MutationObserver(function (mutations, observer) {{\n",
              "        var display = window.getComputedStyle(gd).display;\n",
              "        if (!display || display === 'none') {{\n",
              "            console.log([gd, 'removed!']);\n",
              "            Plotly.purge(gd);\n",
              "            observer.disconnect();\n",
              "        }}\n",
              "}});\n",
              "\n",
              "// Listen for the removal of the full notebook cells\n",
              "var notebookContainer = gd.closest('#notebook-container');\n",
              "if (notebookContainer) {{\n",
              "    x.observe(notebookContainer, {childList: true});\n",
              "}}\n",
              "\n",
              "// Listen for the clearing of the current output cell\n",
              "var outputEl = gd.closest('.output');\n",
              "if (outputEl) {{\n",
              "    x.observe(outputEl, {childList: true});\n",
              "}}\n",
              "\n",
              "                        })                };                            </script>        </div>\n",
              "</body>\n",
              "</html>"
            ]
          },
          "metadata": {},
          "output_type": "display_data"
        }
      ],
      "source": [
        "import plotly.graph_objects as go\n",
        "\n",
        "# Dados de precisão do histórico de treinamento\n",
        "acc = history.history['accuracy']\n",
        "val_acc = history.history['val_accuracy']\n",
        "epochs = range(1, len(acc) + 1)\n",
        "\n",
        "# Criando o gráfico\n",
        "fig = go.Figure()\n",
        "\n",
        "# Adicionando a linha de precisão do treinamento\n",
        "fig.add_trace(go.Scatter(x=list(epochs), y=acc, mode='lines', name='Acurácia Treinamento'))\n",
        "\n",
        "# Adicionando a linha de precisão da validação\n",
        "fig.add_trace(go.Scatter(x=list(epochs), y=val_acc, mode='lines', name='Acurácia Validação'))\n",
        "\n",
        "# Configurando o layout do gráfico\n",
        "fig.update_layout(\n",
        "    title='Acurácia por Iteração',\n",
        "    xaxis_title='Épocas',\n",
        "    yaxis_title='Acurácia',\n",
        "    legend_title='Tipo de Acurácia'\n",
        ")\n",
        "\n",
        "# Exibindo o gráfico\n"
      ]
    },
    {
      "cell_type": "markdown",
      "metadata": {
        "id": "6M2EOUaOUCoj"
      },
      "source": [
        "# Salvar modelo"
      ]
    },
    {
      "cell_type": "code",
      "execution_count": 79,
      "metadata": {
        "colab": {
          "base_uri": "https://localhost:8080/"
        },
        "id": "a5EtpYvoT49P",
        "outputId": "b0017121-65db-47dd-c96e-75f499302ef2"
      },
      "outputs": [
        {
          "name": "stderr",
          "output_type": "stream",
          "text": [
            "/usr/local/lib/python3.10/dist-packages/keras/src/engine/training.py:3103: UserWarning: You are saving your model as an HDF5 file via `model.save()`. This file format is considered legacy. We recommend using instead the native Keras format, e.g. `model.save('my_model.keras')`.\n",
            "  saving_api.save_model(\n"
          ]
        }
      ],
      "source": [
        "# Salve o modelo\n",
        "model.save('cifarmodel.h5')"
      ]
    },
    {
      "cell_type": "code",
      "execution_count": 80,
      "metadata": {
        "colab": {
          "base_uri": "https://localhost:8080/",
          "height": 17
        },
        "id": "OjRQyiIpUGhE",
        "outputId": "e3988f76-6eec-4b54-b962-caa8f34593a9"
      },
      "outputs": [
        {
          "data": {
            "application/javascript": "\n    async function download(id, filename, size) {\n      if (!google.colab.kernel.accessAllowed) {\n        return;\n      }\n      const div = document.createElement('div');\n      const label = document.createElement('label');\n      label.textContent = `Downloading \"${filename}\": `;\n      div.appendChild(label);\n      const progress = document.createElement('progress');\n      progress.max = size;\n      div.appendChild(progress);\n      document.body.appendChild(div);\n\n      const buffers = [];\n      let downloaded = 0;\n\n      const channel = await google.colab.kernel.comms.open(id);\n      // Send a message to notify the kernel that we're ready.\n      channel.send({})\n\n      for await (const message of channel.messages) {\n        // Send a message to notify the kernel that we're ready.\n        channel.send({})\n        if (message.buffers) {\n          for (const buffer of message.buffers) {\n            buffers.push(buffer);\n            downloaded += buffer.byteLength;\n            progress.value = downloaded;\n          }\n        }\n      }\n      const blob = new Blob(buffers, {type: 'application/binary'});\n      const a = document.createElement('a');\n      a.href = window.URL.createObjectURL(blob);\n      a.download = filename;\n      div.appendChild(a);\n      a.click();\n      div.remove();\n    }\n  ",
            "text/plain": [
              "<IPython.core.display.Javascript object>"
            ]
          },
          "metadata": {},
          "output_type": "display_data"
        },
        {
          "data": {
            "application/javascript": "download(\"download_e9442de3-8587-4d63-93c0-572548461a21\", \"cifarmodel.h5\", 28891760)",
            "text/plain": [
              "<IPython.core.display.Javascript object>"
            ]
          },
          "metadata": {},
          "output_type": "display_data"
        }
      ],
      "source": [
        "# Baixe o modelo para o seu computador\n",
        "from google.colab import files\n",
        "files.download('cifarmodel.h5')"
      ]
    }
  ],
  "metadata": {
    "accelerator": "GPU",
    "colab": {
      "gpuType": "T4",
      "provenance": []
    },
    "kernelspec": {
      "display_name": "Python 3",
      "name": "python3"
    },
    "language_info": {
      "name": "python"
    }
  },
  "nbformat": 4,
  "nbformat_minor": 0
}
